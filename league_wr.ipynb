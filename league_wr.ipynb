{
 "cells": [
  {
   "cell_type": "code",
   "execution_count": 22,
   "metadata": {},
   "outputs": [],
   "source": [
    "def winrate_required(current_lp: int, loss: int, gain: int, total_games: int, winrate: int) -> int:\n",
    "    ONE_RANK = 400\n",
    "    total_gain_needed = ONE_RANK - current_lp\n",
    "    winrate = (total_gain_needed / total_games - loss) / (gain - loss)\n",
    "    print(f\"WINRATE_REQUIRED IS {winrate}\")\n",
    "    return winrate\n",
    "\n",
    "\n",
    "# given a winrate -> 60%, (60% * gain + 40% * loss)total_games = total_gain\n",
    "#   x*gain + (1-x)loss = total_gain\n",
    "#   x*gain + loss - x*loss = total_gain\n",
    "#   x(gain-loss) + loss = total_gain\n",
    "#   x = (total_gain - loss)/(gain-loss)"
   ]
  },
  {
   "cell_type": "code",
   "execution_count": 24,
   "metadata": {},
   "outputs": [
    {
     "name": "stdout",
     "output_type": "stream",
     "text": [
      "WINRATE_REQUIRED IS 0.5503571428571428\n"
     ]
    },
    {
     "data": {
      "text/plain": [
       "0.5503571428571428"
      ]
     },
     "execution_count": 24,
     "metadata": {},
     "output_type": "execute_result"
    }
   ],
   "source": [
    "winrate_required(119, -18, 22, 70)"
   ]
  }
 ],
 "metadata": {
  "kernelspec": {
   "display_name": "Python 3",
   "language": "python",
   "name": "python3"
  },
  "language_info": {
   "codemirror_mode": {
    "name": "ipython",
    "version": 3
   },
   "file_extension": ".py",
   "mimetype": "text/x-python",
   "name": "python",
   "nbconvert_exporter": "python",
   "pygments_lexer": "ipython3",
   "version": "3.12.0"
  }
 },
 "nbformat": 4,
 "nbformat_minor": 2
}
