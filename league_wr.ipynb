{
 "cells": [
  {
   "cell_type": "code",
   "execution_count": 1,
   "metadata": {},
   "outputs": [
    {
     "name": "stdout",
     "output_type": "stream",
     "text": [
      "MMR GAME CALCULATOR IS NOW RUNNING.\n"
     ]
    }
   ],
   "source": [
    "from mmr_calculator import *\n",
    "lol_calc = MMRGameCalculator(100, 47, 4, 22, -18)"
   ]
  },
  {
   "cell_type": "code",
   "execution_count": 2,
   "metadata": {},
   "outputs": [
    {
     "name": "stdout",
     "output_type": "stream",
     "text": [
      "GAMES REQUIRED TO CLIMB 4 DIVISIONS IS: 35.3\n"
     ]
    }
   ],
   "source": [
    "lol_calc.calculate_games_required(0.7)"
   ]
  },
  {
   "cell_type": "code",
   "execution_count": 3,
   "metadata": {},
   "outputs": [
    {
     "name": "stdout",
     "output_type": "stream",
     "text": [
      "WINRATE REQUIRED IS: 53.8%\n"
     ]
    }
   ],
   "source": [
    "lol_calc.calculate_winrate_required(100)"
   ]
  }
 ],
 "metadata": {
  "kernelspec": {
   "display_name": "Python 3",
   "language": "python",
   "name": "python3"
  },
  "language_info": {
   "codemirror_mode": {
    "name": "ipython",
    "version": 3
   },
   "file_extension": ".py",
   "mimetype": "text/x-python",
   "name": "python",
   "nbconvert_exporter": "python",
   "pygments_lexer": "ipython3",
   "version": "3.10.13"
  }
 },
 "nbformat": 4,
 "nbformat_minor": 2
}
